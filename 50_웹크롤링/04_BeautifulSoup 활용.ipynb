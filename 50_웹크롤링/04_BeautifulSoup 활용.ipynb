{
 "cells": [
  {
   "cell_type": "markdown",
   "metadata": {},
   "source": [
    "# 4. BeautifulSoup 활용\n",
    "* 멜론사이트 크롤링하기\n",
    "* 제목, 가수, 앨범, 좋아요수 추출"
   ]
  },
  {
   "cell_type": "code",
   "execution_count": 1,
   "metadata": {},
   "outputs": [],
   "source": [
    "import requests\n",
    "from bs4 import BeautifulSoup\n",
    "import pandas as pd"
   ]
  },
  {
   "cell_type": "code",
   "execution_count": 2,
   "metadata": {},
   "outputs": [
    {
     "data": {
      "text/plain": [
       "<Response [200]>"
      ]
     },
     "execution_count": 2,
     "metadata": {},
     "output_type": "execute_result"
    }
   ],
   "source": [
    "url = 'https://www.melon.com/chart/index.htm'\n",
    "\n",
    "headers = {\n",
    "    'user-agent': 'Mozilla/5.0 (Windows NT 10.0; Win64; x64) AppleWebKit/537.36 (KHTML, like Gecko) Chrome/92.0.4515.159 Safari/537.36'\n",
    "}\n",
    "res = requests.get(url, headers=headers)\n",
    "res"
   ]
  },
  {
   "cell_type": "code",
   "execution_count": 3,
   "metadata": {},
   "outputs": [
    {
     "data": {
      "text/plain": [
       "'<!DOCTYPE html>\\r\\n<html lang=\"ko\">\\r\\n\\r\\n\\r\\n\\r\\n\\r\\n\\r\\n\\r\\n\\r\\n\\r\\n\\r\\n\\r\\n\\r\\n\\r\\n\\r\\n<head>\\r\\n\\t\\t\\r\\n\\t\\r\\n\\t\\r\\n\\t\\r\\n\\t\\r\\n\\t\\r\\n\\t\\r\\n\\t\\r\\n\\r\\n\\t<meta http-equiv=\"Content-Type\" content=\"text/html; charset=utf-8\"/>\\r\\n\\t<meta http-equiv=\"X-UA-Compatible\" content=\"IE=edge,chrome=1\" />\\r\\n\\t\\r\\n\\r\\n\\t\\r\\n\\r\\n\\t\\r\\n\\r\\n\\t<title>멜론차트>TOP100>멜론</title>\\r\\n\\t<meta name=\"keywor'"
      ]
     },
     "execution_count": 3,
     "metadata": {},
     "output_type": "execute_result"
    }
   ],
   "source": [
    "res.text[:300]"
   ]
  },
  {
   "cell_type": "code",
   "execution_count": 4,
   "metadata": {},
   "outputs": [],
   "source": [
    "soup = BeautifulSoup(res.text)"
   ]
  },
  {
   "cell_type": "markdown",
   "metadata": {},
   "source": [
    "### 노래제목 추출"
   ]
  },
  {
   "cell_type": "code",
   "execution_count": 5,
   "metadata": {},
   "outputs": [
    {
     "data": {
      "text/plain": [
       "['리무진 (Feat. MINO) (Prod. GRAY)',\n",
       " '회전목마 (Feat. Zion.T, 원슈타인) (Prod. Slom)',\n",
       " '만남은 쉽고 이별은 어려워 (Feat. Leellamarz) (Prod. TOIL)',\n",
       " '사랑은 늘 도망가',\n",
       " '불협화음 (Feat. AKMU) (Prod. GRAY)',\n",
       " '쉬어 (Feat. MINO) (Prod. GRAY)',\n",
       " 'strawberry moon',\n",
       " 'Wake Up (Prod. 코드 쿤스트)',\n",
       " 'MBTI (Feat. 쿠기 & 로꼬) (Prod. GRAY)',\n",
       " '네가 없는 밤 (Feat. ASH ISLAND) (Prod. GRAY)']"
      ]
     },
     "execution_count": 5,
     "metadata": {},
     "output_type": "execute_result"
    }
   ],
   "source": [
    "songs = soup.select('.ellipsis.rank01') # class, 띄어쓰기 - \".\"\n",
    "title = []\n",
    "for song in songs:\n",
    "    title.append(song.find('a').get_text())\n",
    "title[:10]"
   ]
  },
  {
   "cell_type": "markdown",
   "metadata": {},
   "source": [
    "### 가수명 추출"
   ]
  },
  {
   "cell_type": "code",
   "execution_count": 6,
   "metadata": {},
   "outputs": [
    {
     "data": {
      "text/plain": [
       "[\"BE'O (비오)\",\n",
       " 'sokodomo',\n",
       " '베이식 (Basick)',\n",
       " '임영웅',\n",
       " 'Mudd the student',\n",
       " '아넌딜라이트(Anandelight)',\n",
       " '아이유',\n",
       " '개코',\n",
       " \"BE'O (비오)\",\n",
       " \"BE'O (비오)\"]"
      ]
     },
     "execution_count": 6,
     "metadata": {},
     "output_type": "execute_result"
    }
   ],
   "source": [
    "songs = soup.select('.ellipsis.rank02')\n",
    "singer = []\n",
    "for song in songs:\n",
    "    singer.append(song.find('a').get_text())\n",
    "singer[:10]"
   ]
  },
  {
   "cell_type": "markdown",
   "metadata": {},
   "source": [
    "### 앨범명 추출"
   ]
  },
  {
   "cell_type": "code",
   "execution_count": 7,
   "metadata": {},
   "outputs": [
    {
     "data": {
      "text/plain": [
       "['쇼미더머니 10 Episode 3',\n",
       " '쇼미더머니 10 Episode 2',\n",
       " '쇼미더머니 10 Episode 3',\n",
       " '신사와 아가씨 OST Part.2',\n",
       " '쇼미더머니 10 Semi Final',\n",
       " '쇼미더머니 10 Episode 1',\n",
       " 'strawberry moon',\n",
       " '쇼미더머니 10 Episode 1',\n",
       " '쇼미더머니 10 Semi Final',\n",
       " '쇼미더머니 10 Final']"
      ]
     },
     "execution_count": 7,
     "metadata": {},
     "output_type": "execute_result"
    }
   ],
   "source": [
    "songs = soup.select('.ellipsis.rank03')\n",
    "album = []\n",
    "for song in songs:\n",
    "    album.append(song.find('a').get_text())\n",
    "album[:10]"
   ]
  },
  {
   "cell_type": "markdown",
   "metadata": {},
   "source": [
    "### 좋아요 수 추출"
   ]
  },
  {
   "cell_type": "code",
   "execution_count": 8,
   "metadata": {},
   "outputs": [
    {
     "data": {
      "text/plain": [
       "'34298499,34256568,34298496,34061322,34331506,34215822,34101563,34215821,34331510,34366006,34041584,33496587,33480898,33658563,32508053,33487342,33652821,34349913,33337651,33978183,33998510,34331508,33507137,32698101,33514925,33666269,14776,33606505,33036660,33725775,5475060,33625988,34298498,34360855,33630420,33448767,33599821,32872978,33359317,33503722,33655994,33239419,34215820,33372781,33623210,34366007,31254010,33868791,34331507,33061995,34366008,30717645,33976677,34298493,34215819,33878014,33691794,30287019,33359725,34366010,34254823,3414749,32061975,34366011,34331505,33749109,34326186,3053259,33167063,30962526,33759183,33248758,31737197,33464805,34171026,30244931,33589488,32962258,4365842,33805289,34331509,33359309,34225244,32183386,33397561,34331504,34140616,31853557,34256569,34366012,33077234,33618864,32794652,33315511,33107649,3973781,33618271,34244526,5473462,32578498'"
      ]
     },
     "execution_count": 8,
     "metadata": {},
     "output_type": "execute_result"
    }
   ],
   "source": [
    "songs = soup.select('.button_etc.like')\n",
    "params = ''\n",
    "\n",
    "for song in songs:\n",
    "    params += song['data-song-no'] + ','\n",
    "params[:-1]"
   ]
  },
  {
   "cell_type": "code",
   "execution_count": 9,
   "metadata": {},
   "outputs": [
    {
     "data": {
      "text/plain": [
       "<Response [200]>"
      ]
     },
     "execution_count": 9,
     "metadata": {},
     "output_type": "execute_result"
    }
   ],
   "source": [
    "url2 = 'https://www.melon.com/commonlike/getSongLike.json?contsIds=' + params[:-1]\n",
    "\n",
    "res2 = requests.get(url2, headers=headers)\n",
    "res2"
   ]
  },
  {
   "cell_type": "code",
   "execution_count": 10,
   "metadata": {},
   "outputs": [
    {
     "data": {
      "text/plain": [
       "[117676,\n",
       " 135504,\n",
       " 75106,\n",
       " 82245,\n",
       " 39906,\n",
       " 82230,\n",
       " 163020,\n",
       " 64235,\n",
       " 31311,\n",
       " 19933,\n",
       " 125718,\n",
       " 90847,\n",
       " 244298,\n",
       " 190997,\n",
       " 143484,\n",
       " 226574,\n",
       " 33803,\n",
       " 26831,\n",
       " 67816,\n",
       " 76698,\n",
       " 138858,\n",
       " 22649,\n",
       " 259401,\n",
       " 163653,\n",
       " 37215,\n",
       " 190075,\n",
       " 188036,\n",
       " 32626,\n",
       " 67802,\n",
       " 155777,\n",
       " 202171,\n",
       " 165376,\n",
       " 24989,\n",
       " 12934,\n",
       " 31254,\n",
       " 50509,\n",
       " 31106,\n",
       " 427255,\n",
       " 208571,\n",
       " 163340,\n",
       " 153011,\n",
       " 307359,\n",
       " 31291,\n",
       " 225159,\n",
       " 92305,\n",
       " 8530,\n",
       " 55750,\n",
       " 57499,\n",
       " 19564,\n",
       " 173096,\n",
       " 8568,\n",
       " 186887,\n",
       " 36238,\n",
       " 21456,\n",
       " 33444,\n",
       " 58552,\n",
       " 80416,\n",
       " 289682,\n",
       " 122444,\n",
       " 8811,\n",
       " 25619,\n",
       " 176109,\n",
       " 368348,\n",
       " 7710,\n",
       " 14862,\n",
       " 82814,\n",
       " 9342,\n",
       " 157022,\n",
       " 105600,\n",
       " 381482,\n",
       " 58892,\n",
       " 71145,\n",
       " 430838,\n",
       " 148178,\n",
       " 22242,\n",
       " 552883,\n",
       " 94872,\n",
       " 190765,\n",
       " 32780,\n",
       " 103236,\n",
       " 16309,\n",
       " 93566,\n",
       " 12781,\n",
       " 324200,\n",
       " 134079,\n",
       " 11802,\n",
       " 80225,\n",
       " 251670,\n",
       " 23979,\n",
       " 6067,\n",
       " 231060,\n",
       " 55228,\n",
       " 205813,\n",
       " 117706,\n",
       " 70948,\n",
       " 163776,\n",
       " 53623,\n",
       " 19086,\n",
       " 57110,\n",
       " 371491]"
      ]
     },
     "execution_count": 10,
     "metadata": {},
     "output_type": "execute_result"
    }
   ],
   "source": [
    "songs = res2.json()['contsLike']\n",
    "like = []\n",
    "\n",
    "for song in songs:\n",
    "    like.append(song['SUMMCNT'])\n",
    "like"
   ]
  },
  {
   "cell_type": "code",
   "execution_count": 11,
   "metadata": {},
   "outputs": [
    {
     "data": {
      "text/plain": [
       "(100, 100, 100, 100)"
      ]
     },
     "execution_count": 11,
     "metadata": {},
     "output_type": "execute_result"
    }
   ],
   "source": [
    "len(title), len(singer), len(album), len(like)"
   ]
  },
  {
   "cell_type": "code",
   "execution_count": 12,
   "metadata": {},
   "outputs": [
    {
     "data": {
      "text/html": [
       "<div>\n",
       "<style scoped>\n",
       "    .dataframe tbody tr th:only-of-type {\n",
       "        vertical-align: middle;\n",
       "    }\n",
       "\n",
       "    .dataframe tbody tr th {\n",
       "        vertical-align: top;\n",
       "    }\n",
       "\n",
       "    .dataframe thead th {\n",
       "        text-align: right;\n",
       "    }\n",
       "</style>\n",
       "<table border=\"1\" class=\"dataframe\">\n",
       "  <thead>\n",
       "    <tr style=\"text-align: right;\">\n",
       "      <th></th>\n",
       "      <th>title</th>\n",
       "      <th>singer</th>\n",
       "      <th>album</th>\n",
       "      <th>like</th>\n",
       "    </tr>\n",
       "  </thead>\n",
       "  <tbody>\n",
       "    <tr>\n",
       "      <th>0</th>\n",
       "      <td>리무진 (Feat. MINO) (Prod. GRAY)</td>\n",
       "      <td>BE'O (비오)</td>\n",
       "      <td>쇼미더머니 10 Episode 3</td>\n",
       "      <td>117676</td>\n",
       "    </tr>\n",
       "    <tr>\n",
       "      <th>1</th>\n",
       "      <td>회전목마 (Feat. Zion.T, 원슈타인) (Prod. Slom)</td>\n",
       "      <td>sokodomo</td>\n",
       "      <td>쇼미더머니 10 Episode 2</td>\n",
       "      <td>135504</td>\n",
       "    </tr>\n",
       "    <tr>\n",
       "      <th>2</th>\n",
       "      <td>만남은 쉽고 이별은 어려워 (Feat. Leellamarz) (Prod. TOIL)</td>\n",
       "      <td>베이식 (Basick)</td>\n",
       "      <td>쇼미더머니 10 Episode 3</td>\n",
       "      <td>75106</td>\n",
       "    </tr>\n",
       "    <tr>\n",
       "      <th>3</th>\n",
       "      <td>사랑은 늘 도망가</td>\n",
       "      <td>임영웅</td>\n",
       "      <td>신사와 아가씨 OST Part.2</td>\n",
       "      <td>82245</td>\n",
       "    </tr>\n",
       "    <tr>\n",
       "      <th>4</th>\n",
       "      <td>불협화음 (Feat. AKMU) (Prod. GRAY)</td>\n",
       "      <td>Mudd the student</td>\n",
       "      <td>쇼미더머니 10 Semi Final</td>\n",
       "      <td>39906</td>\n",
       "    </tr>\n",
       "    <tr>\n",
       "      <th>...</th>\n",
       "      <td>...</td>\n",
       "      <td>...</td>\n",
       "      <td>...</td>\n",
       "      <td>...</td>\n",
       "    </tr>\n",
       "    <tr>\n",
       "      <th>95</th>\n",
       "      <td>크리스마스니까</td>\n",
       "      <td>성시경</td>\n",
       "      <td>Jelly Christmas 2012 HEART PROJECT</td>\n",
       "      <td>163776</td>\n",
       "    </tr>\n",
       "    <tr>\n",
       "      <th>96</th>\n",
       "      <td>하루만 더</td>\n",
       "      <td>빅마마</td>\n",
       "      <td>하루만 더</td>\n",
       "      <td>53623</td>\n",
       "    </tr>\n",
       "    <tr>\n",
       "      <th>97</th>\n",
       "      <td>어제 너는 나를 버렸어</td>\n",
       "      <td>10CM</td>\n",
       "      <td>The 3rd EP</td>\n",
       "      <td>19086</td>\n",
       "    </tr>\n",
       "    <tr>\n",
       "      <th>98</th>\n",
       "      <td>Hey Mama (Feat. Nicki Minaj, Bebe Rexha &amp; Afro...</td>\n",
       "      <td>David Guetta</td>\n",
       "      <td>Listen</td>\n",
       "      <td>57110</td>\n",
       "    </tr>\n",
       "    <tr>\n",
       "      <th>99</th>\n",
       "      <td>에잇(Prod.&amp;Feat. SUGA of BTS)</td>\n",
       "      <td>아이유</td>\n",
       "      <td>에잇</td>\n",
       "      <td>371491</td>\n",
       "    </tr>\n",
       "  </tbody>\n",
       "</table>\n",
       "<p>100 rows × 4 columns</p>\n",
       "</div>"
      ],
      "text/plain": [
       "                                                title            singer  \\\n",
       "0                       리무진 (Feat. MINO) (Prod. GRAY)         BE'O (비오)   \n",
       "1              회전목마 (Feat. Zion.T, 원슈타인) (Prod. Slom)          sokodomo   \n",
       "2      만남은 쉽고 이별은 어려워 (Feat. Leellamarz) (Prod. TOIL)      베이식 (Basick)   \n",
       "3                                           사랑은 늘 도망가               임영웅   \n",
       "4                      불협화음 (Feat. AKMU) (Prod. GRAY)  Mudd the student   \n",
       "..                                                ...               ...   \n",
       "95                                            크리스마스니까               성시경   \n",
       "96                                              하루만 더               빅마마   \n",
       "97                                       어제 너는 나를 버렸어              10CM   \n",
       "98  Hey Mama (Feat. Nicki Minaj, Bebe Rexha & Afro...      David Guetta   \n",
       "99                        에잇(Prod.&Feat. SUGA of BTS)               아이유   \n",
       "\n",
       "                                 album    like  \n",
       "0                   쇼미더머니 10 Episode 3  117676  \n",
       "1                   쇼미더머니 10 Episode 2  135504  \n",
       "2                   쇼미더머니 10 Episode 3   75106  \n",
       "3                   신사와 아가씨 OST Part.2   82245  \n",
       "4                  쇼미더머니 10 Semi Final   39906  \n",
       "..                                 ...     ...  \n",
       "95  Jelly Christmas 2012 HEART PROJECT  163776  \n",
       "96                               하루만 더   53623  \n",
       "97                          The 3rd EP   19086  \n",
       "98                              Listen   57110  \n",
       "99                                  에잇  371491  \n",
       "\n",
       "[100 rows x 4 columns]"
      ]
     },
     "execution_count": 12,
     "metadata": {},
     "output_type": "execute_result"
    }
   ],
   "source": [
    "# 제목, 가수, 앨범, 좋아요 dataframe 생성\n",
    "df_data = {\n",
    "    'title' : title,\n",
    "    'singer' : singer,\n",
    "    'album' : album,\n",
    "    'like' : like\n",
    "}\n",
    "\n",
    "df = pd.DataFrame(data=df_data)\n",
    "df"
   ]
  },
  {
   "cell_type": "code",
   "execution_count": null,
   "metadata": {},
   "outputs": [],
   "source": []
  }
 ],
 "metadata": {
  "kernelspec": {
   "display_name": "Python 3",
   "language": "python",
   "name": "python3"
  },
  "language_info": {
   "codemirror_mode": {
    "name": "ipython",
    "version": 3
   },
   "file_extension": ".py",
   "mimetype": "text/x-python",
   "name": "python",
   "nbconvert_exporter": "python",
   "pygments_lexer": "ipython3",
   "version": "3.8.5"
  }
 },
 "nbformat": 4,
 "nbformat_minor": 4
}
