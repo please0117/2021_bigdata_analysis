{
 "cells": [
  {
   "cell_type": "markdown",
   "metadata": {},
   "source": [
    "# 1. requests 모듈\n",
    "* HTTP request/response를 처리하는 모듈\n",
    "* https://docs.python-requests.org/"
   ]
  },
  {
   "cell_type": "markdown",
   "metadata": {},
   "source": [
    "### requests 모듈 import"
   ]
  },
  {
   "cell_type": "code",
   "execution_count": 1,
   "metadata": {},
   "outputs": [],
   "source": [
    "import requests"
   ]
  },
  {
   "cell_type": "code",
   "execution_count": 2,
   "metadata": {},
   "outputs": [
    {
     "data": {
      "text/plain": [
       "'2.24.0'"
      ]
     },
     "execution_count": 2,
     "metadata": {},
     "output_type": "execute_result"
    }
   ],
   "source": [
    "requests.__version__"
   ]
  },
  {
   "cell_type": "code",
   "execution_count": 3,
   "metadata": {},
   "outputs": [],
   "source": [
    "# pip install requests --upgrade"
   ]
  },
  {
   "cell_type": "markdown",
   "metadata": {},
   "source": [
    "### get 방식으로 요청하기\n",
    "* naver 검색으로 get 방식 살펴보기\n",
    "* requests.get(url)\n",
    "* query parameters로 데이터 전달하기"
   ]
  },
  {
   "cell_type": "code",
   "execution_count": 4,
   "metadata": {},
   "outputs": [
    {
     "data": {
      "text/plain": [
       "<Response [200]>"
      ]
     },
     "execution_count": 4,
     "metadata": {},
     "output_type": "execute_result"
    }
   ],
   "source": [
    "url = 'http://httpbin.org/get'\n",
    "params = {\n",
    "    'key1' : 'value1',\n",
    "    'key2' : 'value2'\n",
    "}\n",
    "res = requests.get(url, params=params)\n",
    "res"
   ]
  },
  {
   "cell_type": "code",
   "execution_count": 5,
   "metadata": {},
   "outputs": [
    {
     "data": {
      "text/plain": [
       "200"
      ]
     },
     "execution_count": 5,
     "metadata": {},
     "output_type": "execute_result"
    }
   ],
   "source": [
    "res.status_code"
   ]
  },
  {
   "cell_type": "code",
   "execution_count": 6,
   "metadata": {},
   "outputs": [
    {
     "data": {
      "text/plain": [
       "{'Date': 'Thu, 12 Aug 2021 02:11:06 GMT', 'Content-Type': 'application/json', 'Content-Length': '376', 'Connection': 'keep-alive', 'Server': 'gunicorn/19.9.0', 'Access-Control-Allow-Origin': '*', 'Access-Control-Allow-Credentials': 'true'}"
      ]
     },
     "execution_count": 6,
     "metadata": {},
     "output_type": "execute_result"
    }
   ],
   "source": [
    "# 응답 헤더\n",
    "res.headers"
   ]
  },
  {
   "cell_type": "code",
   "execution_count": 17,
   "metadata": {},
   "outputs": [
    {
     "data": {
      "text/plain": [
       "{'User-Agent': 'python-requests/2.24.0', 'Accept-Encoding': 'gzip, deflate', 'Accept': '*/*', 'Connection': 'keep-alive'}"
      ]
     },
     "execution_count": 17,
     "metadata": {},
     "output_type": "execute_result"
    }
   ],
   "source": [
    "# 요청 헤더\n",
    "res.request.headers"
   ]
  },
  {
   "cell_type": "code",
   "execution_count": 7,
   "metadata": {},
   "outputs": [
    {
     "data": {
      "text/plain": [
       "'{\\n  \"args\": {\\n    \"key1\": \"value1\", \\n    \"key2\": \"value2\"\\n  }, \\n  \"headers\": {\\n    \"Accept\": \"*/*\", \\n    \"Accept-Encoding\": \"gzip, deflate\", \\n    \"Host\": \"httpbin.org\", \\n    \"User-Agent\": \"python-requests/2.24.0\", \\n    \"X-Amzn-Trace-Id\": \"Root=1-6114833a-4a91bfbf5c66230135959ac8\"\\n  }, \\n  \"origin\": \"1.242.33.135\", \\n  \"url\": \"http://httpbin.org/get?key1=value1&key2=value2\"\\n}\\n'"
      ]
     },
     "execution_count": 7,
     "metadata": {},
     "output_type": "execute_result"
    }
   ],
   "source": [
    "res.text"
   ]
  },
  {
   "cell_type": "code",
   "execution_count": 8,
   "metadata": {},
   "outputs": [
    {
     "data": {
      "text/plain": [
       "{'args': {'key1': 'value1', 'key2': 'value2'},\n",
       " 'headers': {'Accept': '*/*',\n",
       "  'Accept-Encoding': 'gzip, deflate',\n",
       "  'Host': 'httpbin.org',\n",
       "  'User-Agent': 'python-requests/2.24.0',\n",
       "  'X-Amzn-Trace-Id': 'Root=1-6114833a-4a91bfbf5c66230135959ac8'},\n",
       " 'origin': '1.242.33.135',\n",
       " 'url': 'http://httpbin.org/get?key1=value1&key2=value2'}"
      ]
     },
     "execution_count": 8,
     "metadata": {},
     "output_type": "execute_result"
    }
   ],
   "source": [
    "res.json()"
   ]
  },
  {
   "cell_type": "code",
   "execution_count": 9,
   "metadata": {},
   "outputs": [
    {
     "data": {
      "text/plain": [
       "dict"
      ]
     },
     "execution_count": 9,
     "metadata": {},
     "output_type": "execute_result"
    }
   ],
   "source": [
    "type(res.json())"
   ]
  },
  {
   "cell_type": "code",
   "execution_count": 10,
   "metadata": {},
   "outputs": [
    {
     "data": {
      "text/plain": [
       "'value1'"
      ]
     },
     "execution_count": 10,
     "metadata": {},
     "output_type": "execute_result"
    }
   ],
   "source": [
    "res.json()['args']['key1']"
   ]
  },
  {
   "cell_type": "markdown",
   "metadata": {},
   "source": [
    "### post 방식으로 요청하기\n",
    "* naver 로그인으로 post 방식 살펴보기\n",
    "* requests.post(url)\n",
    "* form data로 데이터 전달하기"
   ]
  },
  {
   "cell_type": "code",
   "execution_count": 11,
   "metadata": {},
   "outputs": [
    {
     "data": {
      "text/plain": [
       "<Response [200]>"
      ]
     },
     "execution_count": 11,
     "metadata": {},
     "output_type": "execute_result"
    }
   ],
   "source": [
    "url = 'http://httpbin.org/post'\n",
    "data = {\n",
    "    'id': 'test',\n",
    "    'pw': 'testpwd'\n",
    "}\n",
    "res = requests.post(url, data=data)\n",
    "res"
   ]
  },
  {
   "cell_type": "code",
   "execution_count": 12,
   "metadata": {},
   "outputs": [
    {
     "data": {
      "text/plain": [
       "200"
      ]
     },
     "execution_count": 12,
     "metadata": {},
     "output_type": "execute_result"
    }
   ],
   "source": [
    "res.status_code"
   ]
  },
  {
   "cell_type": "code",
   "execution_count": 13,
   "metadata": {},
   "outputs": [
    {
     "data": {
      "text/plain": [
       "'{\\n  \"args\": {}, \\n  \"data\": \"\", \\n  \"files\": {}, \\n  \"form\": {\\n    \"id\": \"test\", \\n    \"pw\": \"testpwd\"\\n  }, \\n  \"headers\": {\\n    \"Accept\": \"*/*\", \\n    \"Accept-Encoding\": \"gzip, deflate\", \\n    \"Content-Length\": \"18\", \\n    \"Content-Type\": \"application/x-www-form-urlencoded\", \\n    \"Host\": \"httpbin.org\", \\n    \"User-Agent\": \"python-requests/2.24.0\", \\n    \"X-Amzn-Trace-Id\": \"Root=1-6114833b-40a722e367f02b8502b99a75\"\\n  }, \\n  \"json\": null, \\n  \"origin\": \"1.242.33.135\", \\n  \"url\": \"http://httpbin.org/post\"\\n}\\n'"
      ]
     },
     "execution_count": 13,
     "metadata": {},
     "output_type": "execute_result"
    }
   ],
   "source": [
    "res.text"
   ]
  },
  {
   "cell_type": "code",
   "execution_count": 14,
   "metadata": {},
   "outputs": [
    {
     "data": {
      "text/plain": [
       "{'args': {},\n",
       " 'data': '',\n",
       " 'files': {},\n",
       " 'form': {'id': 'test', 'pw': 'testpwd'},\n",
       " 'headers': {'Accept': '*/*',\n",
       "  'Accept-Encoding': 'gzip, deflate',\n",
       "  'Content-Length': '18',\n",
       "  'Content-Type': 'application/x-www-form-urlencoded',\n",
       "  'Host': 'httpbin.org',\n",
       "  'User-Agent': 'python-requests/2.24.0',\n",
       "  'X-Amzn-Trace-Id': 'Root=1-6114833b-40a722e367f02b8502b99a75'},\n",
       " 'json': None,\n",
       " 'origin': '1.242.33.135',\n",
       " 'url': 'http://httpbin.org/post'}"
      ]
     },
     "execution_count": 14,
     "metadata": {},
     "output_type": "execute_result"
    }
   ],
   "source": [
    "res.json()"
   ]
  },
  {
   "cell_type": "code",
   "execution_count": 15,
   "metadata": {},
   "outputs": [
    {
     "data": {
      "text/plain": [
       "<Response [200]>"
      ]
     },
     "execution_count": 15,
     "metadata": {},
     "output_type": "execute_result"
    }
   ],
   "source": [
    "url = 'https://search.naver.com/search.naver'\n",
    "params = {\n",
    "    'query': '디미고'\n",
    "}\n",
    "res = requests.get(url, params=params)\n",
    "res"
   ]
  },
  {
   "cell_type": "code",
   "execution_count": 16,
   "metadata": {},
   "outputs": [
    {
     "data": {
      "text/plain": [
       "'<!doctype html> <html lang=\"ko\"> <head> <meta charset=\"utf-8\"> <meta name=\"referrer\" content=\"always\">  <meta name=\"format-detection\" content=\"telephone=no,address=no,email=no\"> <meta name=\"viewport\" content=\"width=device-width,initial-scale=1.0,maximum-scale=2.0\"> <meta property=\"og:title\" content=\"디미고 : 네이버 통합검색\"/> <meta property=\"og:image\" content=\"https://ssl.pstatic.net/sstatic/search/common/og_v3.png\"> <meta property=\"og:description\" content=\"\\'디미고\\'의 네이버 통합검색 결과입니다.\"> <meta name=\"description\" lang=\"ko\" content=\"\\'디미고\\'의 네이버 통합검색 결과입니다.\"> <title>디미고 : 네이버 통합검색</title> <link rel=\"shortcut icon\" href=\"https://ssl.pstatic.net/sstatic/search/favicon/favicon_191118_pc.ico\">  <link rel=\"search\" type=\"application/opensearchdescription+xml\" href=\"https://ssl.pstatic.net/sstatic/search/opensearch-description.https.xml\" title=\"Naver\" /><link rel=\"stylesheet\" type=\"text/css\" href=\"https://ssl.pstatic.net/sstatic/search/pc/css/search1_210805.css\"> <link rel=\"stylesheet\" type=\"text/css\" href=\"htt'"
      ]
     },
     "execution_count": 16,
     "metadata": {},
     "output_type": "execute_result"
    }
   ],
   "source": [
    "res.text[:1000]"
   ]
  },
  {
   "cell_type": "code",
   "execution_count": 19,
   "metadata": {},
   "outputs": [
    {
     "data": {
      "text/plain": [
       "<Response [200]>"
      ]
     },
     "execution_count": 19,
     "metadata": {},
     "output_type": "execute_result"
    }
   ],
   "source": [
    "# 네이버 기사 검색\n",
    "url = 'https://news.naver.com/main/read.naver?mode=LSD&mid=shm&sid1=105&oid=018&aid=0005008545'\n",
    "\n",
    "headers = {\n",
    "    'user-agent': 'Mozilla/5.0 (Windows NT 10.0; Win64; x64) AppleWebKit/537.36 (KHTML, like Gecko) Chrome/92.0.4515.131 Safari/537.36'\n",
    "}\n",
    "res = requests.get(url, headers=headers)\n",
    "res"
   ]
  },
  {
   "cell_type": "code",
   "execution_count": 20,
   "metadata": {},
   "outputs": [
    {
     "data": {
      "text/plain": [
       "'<!DOCTYPE HTML> \\r\\n<html lang=\"ko\"> \\r\\n<head>\\r\\n<meta charset=\"euc-kr\">\\r\\n<meta http-equiv=\"X-UA-Compatible\" content=\"IE=edge\">\\r\\n<meta name=\"referrer\" contents=\"always\">\\r\\n<meta name=\"viewport\" content=\"width=1106\" />\\r\\n<title>넷마블, 스핀엑스 실적 발판…신작 흥행 주가 변수-KB : 네이버 뉴스</title>\\r\\n\\n\\n\\t\\n\\t\\n\\t\\t\\n\\t\\n\\n\\n\\t\\n\\t\\n\\t\\n\\t\\t\\n\\t\\t\\n\\t\\t\\n\\t\\n\\n<meta property=\"me2:post_tag\"\\t\\tcontent=\"이데일리 : 네이버뉴스\"/>\\n<meta property=\"me2:category1\"\\t\\tcontent=\"이데일리\"/>\\n<meta property=\"me2:category2\"\\t\\tcontent=\"IT/과학\"/>\\n<meta property=\"me2:image\"\\t\\t\\tcontent=\"https://imgnews.pstatic.net/image/018/2021/08/12/0005008545_001_20210812075103140.jpg\"/>\\n\\n<meta property=\"og:title\"\\t\\t\\tcontent=\"넷마블, 스핀엑스 실적 발판…신작 흥행 주가 변수-KB\"/>\\n<meta property=\"og:type\"\\t\\t\\tcontent=\"article\"/>\\n<meta property=\"og:url\"\\t\\t\\t\\tcontent=\"https://news.naver.com/main/read.naver?mode=LSD&mid=sec&oid=018&aid=0005008545&sid1=001\"/>\\n<meta property=\"og:image\"\\t\\t\\tcontent=\"https://imgnews.pstatic.net/image/018/2021/08/12/0005008545_001_20210812075103140.jpg\"/>\\n<meta property=\"og:description\"\\t\\tcontent=\"[이데'"
      ]
     },
     "execution_count": 20,
     "metadata": {},
     "output_type": "execute_result"
    }
   ],
   "source": [
    "res.text[:1000]"
   ]
  },
  {
   "cell_type": "code",
   "execution_count": 21,
   "metadata": {},
   "outputs": [
    {
     "name": "stdout",
     "output_type": "stream",
     "text": [
      "<!DOCTYPE HTML> \n",
      "<html lang=\"ko\"> \n",
      "<head>\n",
      "<meta charset=\"euc-kr\">\n",
      "<meta http-equiv=\"X-UA-Compatible\" content=\"IE=edge\">\n",
      "<meta name=\"referrer\" contents=\"always\">\n",
      "<meta name=\"viewport\" content=\"width=1106\" />\n",
      "<title>넷마블, 스핀엑스 실적 발판…신작 흥행 주가 변수-KB : 네이버 뉴스</title>\n",
      "\n",
      "\n",
      "\t\n",
      "\t\n",
      "\t\t\n",
      "\t\n",
      "\n",
      "\n",
      "\t\n",
      "\t\n",
      "\t\n",
      "\t\t\n",
      "\t\t\n",
      "\t\t\n",
      "\t\n",
      "\n",
      "<meta property=\"me2:post_tag\"\t\tcontent=\"이데일리 : 네이버뉴스\"/>\n",
      "<meta property=\"me2:category1\"\t\tcontent=\"이데일리\"/>\n",
      "<meta property=\"me2:category2\"\t\tcontent=\"IT/과학\"/>\n",
      "<meta property=\"me2:image\"\t\t\tcontent=\"https://imgnews.pstatic.net/image/018/2021/08/12/0005008545_001_20210812075103140.jpg\"/>\n",
      "\n",
      "<meta property=\"og:title\"\t\t\tcontent=\"넷마블, 스핀엑스 실적 발판…신작 흥행 주가 변수-KB\"/>\n",
      "<meta property=\"og:type\"\t\t\tcontent=\"article\"/>\n",
      "<meta property=\"og:url\"\t\t\t\tcontent=\"https://news.naver.com/main/read.naver?mode=LSD&mid=sec&oid=018&aid=0005008545&sid1=001\"/>\n",
      "<meta property=\"og:image\"\t\t\tcontent=\"https://imgnews.pstatic.net/image/018/2021/08/12/0005008545_001_20210812075103140.jpg\"/>\n",
      "<meta property=\"og:description\"\t\tcontent=\"[이데\n"
     ]
    }
   ],
   "source": [
    "if res.status_code == requests.codes.ok:  # 200 # res.ok\n",
    "    print(res.text[:1000])\n",
    "else:\n",
    "    print('error')"
   ]
  },
  {
   "cell_type": "code",
   "execution_count": null,
   "metadata": {},
   "outputs": [],
   "source": []
  }
 ],
 "metadata": {
  "kernelspec": {
   "display_name": "Python 3",
   "language": "python",
   "name": "python3"
  },
  "language_info": {
   "codemirror_mode": {
    "name": "ipython",
    "version": 3
   },
   "file_extension": ".py",
   "mimetype": "text/x-python",
   "name": "python",
   "nbconvert_exporter": "python",
   "pygments_lexer": "ipython3",
   "version": "3.8.5"
  }
 },
 "nbformat": 4,
 "nbformat_minor": 4
}
