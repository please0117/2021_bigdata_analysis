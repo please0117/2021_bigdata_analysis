{
 "cells": [
  {
   "cell_type": "markdown",
   "metadata": {},
   "source": [
    "# 주제: 사람들이 가장 즐겨읽는 문학도서들?\n",
    "### 사이트: https://www.aladin.co.kr/home/welcome.aspx - 알라딘"
   ]
  },
  {
   "cell_type": "code",
   "execution_count": 1,
   "metadata": {},
   "outputs": [],
   "source": [
    "import requests\n",
    "from bs4 import BeautifulSoup\n",
    "import pandas as pd"
   ]
  },
  {
   "cell_type": "markdown",
   "metadata": {},
   "source": [
    "## 스테디셀러 - 오랜 기간동안 꾸준하게 팔린 도서들"
   ]
  },
  {
   "cell_type": "markdown",
   "metadata": {},
   "source": [
    "### requests를 이용하여 get 방식으로 요청"
   ]
  },
  {
   "cell_type": "code",
   "execution_count": 2,
   "metadata": {},
   "outputs": [
    {
     "data": {
      "text/plain": [
       "<Response [200]>"
      ]
     },
     "execution_count": 2,
     "metadata": {},
     "output_type": "execute_result"
    }
   ],
   "source": [
    "url = 'https://www.aladin.co.kr/shop/wbrowse.aspx?CID=1&BrowseTarget=SteadySeller'\n",
    "headers = {\n",
    "    'user-agent': 'Mozilla/5.0 (Windows NT 10.0; Win64; x64) AppleWebKit/537.36 (KHTML, like Gecko) Chrome/92.0.4515.159 Safari/537.36'\n",
    "}\n",
    "res = requests.get(url, headers=headers)\n",
    "res"
   ]
  },
  {
   "cell_type": "code",
   "execution_count": 3,
   "metadata": {},
   "outputs": [
    {
     "data": {
      "text/plain": [
       "'\\r\\n\\r\\n<!DOCTYPE HTML PUBLIC \"-//W3C//DTD HTML 4.0 Transitional//EN\" >\\r\\n<html>\\r\\n\\t<head>\\r\\n\\t\\t<title>알라딘: 소설/시/희곡</title>\\r\\n\\t\\t<meta http-equiv=\"Content-Type\" content=\"text/html; charset=utf-8\" />\\r\\n\\t\\t<meta content=\"http://schemas.microsoft.com/intellisense/ie5\" name=\"vs_targetSchema\" />\\r\\n        <meta http-'"
      ]
     },
     "execution_count": 3,
     "metadata": {},
     "output_type": "execute_result"
    }
   ],
   "source": [
    "res.text[:300]"
   ]
  },
  {
   "cell_type": "markdown",
   "metadata": {},
   "source": [
    "### BeautifulSoup 활용"
   ]
  },
  {
   "cell_type": "code",
   "execution_count": null,
   "metadata": {},
   "outputs": [],
   "source": [
    "soup = BeautifulSoup(res.text)\n",
    "soup"
   ]
  },
  {
   "cell_type": "markdown",
   "metadata": {},
   "source": [
    "### 책제목 추출하기"
   ]
  },
  {
   "cell_type": "code",
   "execution_count": 5,
   "metadata": {},
   "outputs": [
    {
     "data": {
      "text/plain": [
       "['인간 실격',\n",
       " '우리가 빛의 속도로 갈 수 없다면',\n",
       " '아몬드 (양장)',\n",
       " '밤의 여행자들',\n",
       " '파친코 1',\n",
       " '파친코 2',\n",
       " '종의 기원',\n",
       " '여름은 오래 그곳에 남아',\n",
       " '내 문장이 그렇게 이상한가요?',\n",
       " '[세트] 파친코 1~2 세트 - 전2권']"
      ]
     },
     "execution_count": 5,
     "metadata": {},
     "output_type": "execute_result"
    }
   ],
   "source": [
    "books = soup.select('.bo')\n",
    "title = []\n",
    "\n",
    "for book in books:\n",
    "    title.append(book.get_text())\n",
    "\n",
    "title[:10]"
   ]
  },
  {
   "cell_type": "markdown",
   "metadata": {},
   "source": [
    "### 작가, 출판사 추출하기\n",
    "* ex) '이민진 지음, 이미정 옮김 / 문학사상사'와 같이 나옴, 필요한 것: 작가, 출판사"
   ]
  },
  {
   "cell_type": "code",
   "execution_count": 6,
   "metadata": {},
   "outputs": [
    {
     "data": {
      "text/plain": [
       "(['다자이 오사무',\n",
       "  '김초엽',\n",
       "  '손원평',\n",
       "  '윤고은',\n",
       "  '이민진',\n",
       "  '이민진',\n",
       "  '정유정',\n",
       "  '마쓰이에 마사시',\n",
       "  '김정선',\n",
       "  '이민진'],\n",
       " ['민음사', '허블', '창비', '민음사', '문학사상사', '문학사상사', '은행나무', '비채', '유유', '문학사상사'])"
      ]
     },
     "execution_count": 6,
     "metadata": {},
     "output_type": "execute_result"
    }
   ],
   "source": [
    "books = soup.select('.gw')\n",
    "writer = []\n",
    "publisher = []\n",
    "\n",
    "for book in books:\n",
    "    name = book.get_text().split(' / ')  # \n",
    "    writer.append(name[0].split(' 지음')[0]) \n",
    "    publisher.append(name[1]) \n",
    "\n",
    "writer[:10], publisher[:10]"
   ]
  },
  {
   "cell_type": "markdown",
   "metadata": {},
   "source": [
    "### 평점 추출하기"
   ]
  },
  {
   "cell_type": "code",
   "execution_count": 7,
   "metadata": {},
   "outputs": [
    {
     "data": {
      "text/plain": [
       "['8.6', '8.9', '8.6', '8.6', '9.0', '8.7', '8.4', '9.2', '8.1', '8.7']"
      ]
     },
     "execution_count": 7,
     "metadata": {},
     "output_type": "execute_result"
    }
   ],
   "source": [
    "books = soup.select('.br2010_star')\n",
    "stars = []\n",
    "\n",
    "for book in books:\n",
    "    stars.append(book.get_text())\n",
    "\n",
    "stars[:10]"
   ]
  },
  {
   "cell_type": "markdown",
   "metadata": {},
   "source": [
    "### DataFrame으로 변환하기"
   ]
  },
  {
   "cell_type": "code",
   "execution_count": 8,
   "metadata": {},
   "outputs": [
    {
     "data": {
      "text/html": [
       "<div>\n",
       "<style scoped>\n",
       "    .dataframe tbody tr th:only-of-type {\n",
       "        vertical-align: middle;\n",
       "    }\n",
       "\n",
       "    .dataframe tbody tr th {\n",
       "        vertical-align: top;\n",
       "    }\n",
       "\n",
       "    .dataframe thead th {\n",
       "        text-align: right;\n",
       "    }\n",
       "</style>\n",
       "<table border=\"1\" class=\"dataframe\">\n",
       "  <thead>\n",
       "    <tr style=\"text-align: right;\">\n",
       "      <th></th>\n",
       "      <th>책제목</th>\n",
       "      <th>작가</th>\n",
       "      <th>출판사</th>\n",
       "      <th>평점</th>\n",
       "    </tr>\n",
       "  </thead>\n",
       "  <tbody>\n",
       "    <tr>\n",
       "      <th>0</th>\n",
       "      <td>인간 실격</td>\n",
       "      <td>다자이 오사무</td>\n",
       "      <td>민음사</td>\n",
       "      <td>8.6</td>\n",
       "    </tr>\n",
       "    <tr>\n",
       "      <th>1</th>\n",
       "      <td>우리가 빛의 속도로 갈 수 없다면</td>\n",
       "      <td>김초엽</td>\n",
       "      <td>허블</td>\n",
       "      <td>8.9</td>\n",
       "    </tr>\n",
       "    <tr>\n",
       "      <th>2</th>\n",
       "      <td>아몬드 (양장)</td>\n",
       "      <td>손원평</td>\n",
       "      <td>창비</td>\n",
       "      <td>8.6</td>\n",
       "    </tr>\n",
       "    <tr>\n",
       "      <th>3</th>\n",
       "      <td>밤의 여행자들</td>\n",
       "      <td>윤고은</td>\n",
       "      <td>민음사</td>\n",
       "      <td>8.6</td>\n",
       "    </tr>\n",
       "    <tr>\n",
       "      <th>4</th>\n",
       "      <td>파친코 1</td>\n",
       "      <td>이민진</td>\n",
       "      <td>문학사상사</td>\n",
       "      <td>9.0</td>\n",
       "    </tr>\n",
       "    <tr>\n",
       "      <th>...</th>\n",
       "      <td>...</td>\n",
       "      <td>...</td>\n",
       "      <td>...</td>\n",
       "      <td>...</td>\n",
       "    </tr>\n",
       "    <tr>\n",
       "      <th>95</th>\n",
       "      <td>완득이</td>\n",
       "      <td>김려령</td>\n",
       "      <td>창비</td>\n",
       "      <td>9.1</td>\n",
       "    </tr>\n",
       "    <tr>\n",
       "      <th>96</th>\n",
       "      <td>리버보이 (리커버 특별판)</td>\n",
       "      <td>팀 보울러</td>\n",
       "      <td>놀(다산북스)</td>\n",
       "      <td>8.8</td>\n",
       "    </tr>\n",
       "    <tr>\n",
       "      <th>97</th>\n",
       "      <td>해리 포터와 비밀의 방 2 (무선)</td>\n",
       "      <td>J.K. 롤링</td>\n",
       "      <td>문학수첩</td>\n",
       "      <td>10.0</td>\n",
       "    </tr>\n",
       "    <tr>\n",
       "      <th>98</th>\n",
       "      <td>오만과 편견</td>\n",
       "      <td>제인 오스틴</td>\n",
       "      <td>민음사</td>\n",
       "      <td>8.9</td>\n",
       "    </tr>\n",
       "    <tr>\n",
       "      <th>99</th>\n",
       "      <td>채식주의자</td>\n",
       "      <td>한강</td>\n",
       "      <td>창비</td>\n",
       "      <td>8.3</td>\n",
       "    </tr>\n",
       "  </tbody>\n",
       "</table>\n",
       "<p>100 rows × 4 columns</p>\n",
       "</div>"
      ],
      "text/plain": [
       "                    책제목       작가      출판사    평점\n",
       "0                 인간 실격  다자이 오사무      민음사   8.6\n",
       "1    우리가 빛의 속도로 갈 수 없다면      김초엽       허블   8.9\n",
       "2              아몬드 (양장)      손원평       창비   8.6\n",
       "3               밤의 여행자들      윤고은      민음사   8.6\n",
       "4                 파친코 1      이민진    문학사상사   9.0\n",
       "..                  ...      ...      ...   ...\n",
       "95                  완득이      김려령       창비   9.1\n",
       "96       리버보이 (리커버 특별판)    팀 보울러  놀(다산북스)   8.8\n",
       "97  해리 포터와 비밀의 방 2 (무선)  J.K. 롤링     문학수첩  10.0\n",
       "98               오만과 편견   제인 오스틴      민음사   8.9\n",
       "99                채식주의자       한강       창비   8.3\n",
       "\n",
       "[100 rows x 4 columns]"
      ]
     },
     "execution_count": 8,
     "metadata": {},
     "output_type": "execute_result"
    }
   ],
   "source": [
    "df_data = {\n",
    "    '책제목' : title,\n",
    "    '작가' : writer,\n",
    "    '출판사' : publisher,\n",
    "    '평점' : stars\n",
    "}\n",
    "\n",
    "df = pd.DataFrame(df_data)\n",
    "df"
   ]
  },
  {
   "cell_type": "markdown",
   "metadata": {},
   "source": [
    "## 베스트셀러 - 최근 일주일동안 가장 많이 팔린 도서들"
   ]
  },
  {
   "cell_type": "markdown",
   "metadata": {},
   "source": [
    "### Selenium으로 페이지 불러오기"
   ]
  },
  {
   "cell_type": "code",
   "execution_count": 9,
   "metadata": {},
   "outputs": [],
   "source": [
    "from selenium import webdriver\n",
    "from selenium.webdriver.common.keys import Keys\n",
    "import time\n",
    "\n",
    "driver_path = 'C:\\\\JupyterLab\\\\chromedriver.exe'\n",
    "driver = webdriver.Chrome(driver_path)\n",
    "driver.get(\"https://www.aladin.co.kr/home/welcome.aspx\")\n",
    "\n",
    "elem = driver.find_element_by_id(\"browse5\").click()\n",
    "# time.sleep(1)\n",
    "\n",
    "best = 'body > div.browse-wrap > table > tbody > tr > td:nth-child(1) > table:nth-child(5) > tbody > tr:nth-child(2) > td > table > tbody > tr:nth-child(3) > td > a'\n",
    "driver.find_element_by_css_selector(best).click()\n",
    "# time.sleep(2)\n",
    "\n",
    "html = driver.page_source\n",
    "driver.close()"
   ]
  },
  {
   "cell_type": "markdown",
   "metadata": {},
   "source": [
    "### BeautifulSoup 활용"
   ]
  },
  {
   "cell_type": "code",
   "execution_count": null,
   "metadata": {},
   "outputs": [],
   "source": [
    "soup2 = BeautifulSoup(html)\n",
    "soup2"
   ]
  },
  {
   "cell_type": "markdown",
   "metadata": {},
   "source": [
    "### 책제목 추출하기"
   ]
  },
  {
   "cell_type": "code",
   "execution_count": 11,
   "metadata": {},
   "outputs": [
    {
     "data": {
      "text/plain": [
       "['해리 포터와 비밀의 방 (미나리마 에디션)',\n",
       " '방금 떠나온 세계',\n",
       " '당장 써! CREATE NOW!',\n",
       " '행성어 서점',\n",
       " '듄 신장판 1',\n",
       " '달러구트 꿈 백화점 2',\n",
       " '듄 신장판 1~6 세트 - 전6권',\n",
       " '해리 포터와 마법사의 돌 (미나리마 에디션)',\n",
       " '영혼 통행증',\n",
       " '작별하지 않는다']"
      ]
     },
     "execution_count": 11,
     "metadata": {},
     "output_type": "execute_result"
    }
   ],
   "source": [
    "books = soup2.select('.bo')\n",
    "title = []\n",
    "\n",
    "for book in books:\n",
    "    title.append(book.get_text())\n",
    "\n",
    "title[:10]"
   ]
  },
  {
   "cell_type": "markdown",
   "metadata": {},
   "source": [
    "### 작가, 출판사 추출하기"
   ]
  },
  {
   "cell_type": "code",
   "execution_count": 12,
   "metadata": {},
   "outputs": [
    {
     "data": {
      "text/plain": [
       "(['J.K. 롤링',\n",
       "  '김초엽',\n",
       "  '맥라우드 형제',\n",
       "  '김초엽',\n",
       "  '프랭크 허버트',\n",
       "  '이미예',\n",
       "  '프랭크 허버트',\n",
       "  'J.K. 롤링',\n",
       "  '미야베 미유키',\n",
       "  '한강'],\n",
       " ['문학수첩',\n",
       "  '한겨레출판',\n",
       "  '북드림',\n",
       "  '마음산책',\n",
       "  '황금가지',\n",
       "  '팩토리나인',\n",
       "  '황금가지',\n",
       "  '문학수첩',\n",
       "  '북스피어',\n",
       "  '문학동네'])"
      ]
     },
     "execution_count": 12,
     "metadata": {},
     "output_type": "execute_result"
    }
   ],
   "source": [
    "books = soup2.select('.gw')\n",
    "writer = []\n",
    "publisher = []\n",
    "\n",
    "for book in books:\n",
    "    name = book.get_text().split(' / ') \n",
    "    writer.append(name[0].split(' 지음')[0]) \n",
    "    publisher.append(name[1]) \n",
    "\n",
    "writer[:10], publisher[:10]"
   ]
  },
  {
   "cell_type": "markdown",
   "metadata": {},
   "source": [
    "### 기록 추출하기\n",
    "* 'br_sf6box'라는 클래스는 기록이 있는 책에 한해 존재함.\n",
    "* select: 결과를 리스트로 가져옴.\n",
    "* select_one 사용"
   ]
  },
  {
   "cell_type": "code",
   "execution_count": 13,
   "metadata": {},
   "outputs": [
    {
     "data": {
      "text/plain": [
       "['없음',\n",
       " '없음',\n",
       " '없음',\n",
       " '없음',\n",
       " '소설/시/희곡 top10 2주',\n",
       " '종합 top1 3주',\n",
       " '종합 top100 5주',\n",
       " '종합 top10 2주',\n",
       " '없음',\n",
       " '종합 top1 2주']"
      ]
     },
     "execution_count": 13,
     "metadata": {},
     "output_type": "execute_result"
    }
   ],
   "source": [
    "books = soup2.select('.tc')\n",
    "records = []\n",
    "\n",
    "for book in books:\n",
    "    br = book.select_one('.br_sf6box')  # 리스트에 담기지 않게 하기위해 select_one을 씀\n",
    "    if br != None:\n",
    "        records.append(br.get_text())  # 기록이 있는 경우\n",
    "    else:\n",
    "        records.append('없음')  # 기록이 없는 경우\n",
    "\n",
    "records[:10]"
   ]
  },
  {
   "cell_type": "markdown",
   "metadata": {},
   "source": [
    "### DataFrame으로 변환하기"
   ]
  },
  {
   "cell_type": "code",
   "execution_count": 14,
   "metadata": {},
   "outputs": [
    {
     "data": {
      "text/html": [
       "<div>\n",
       "<style scoped>\n",
       "    .dataframe tbody tr th:only-of-type {\n",
       "        vertical-align: middle;\n",
       "    }\n",
       "\n",
       "    .dataframe tbody tr th {\n",
       "        vertical-align: top;\n",
       "    }\n",
       "\n",
       "    .dataframe thead th {\n",
       "        text-align: right;\n",
       "    }\n",
       "</style>\n",
       "<table border=\"1\" class=\"dataframe\">\n",
       "  <thead>\n",
       "    <tr style=\"text-align: right;\">\n",
       "      <th></th>\n",
       "      <th>책제목</th>\n",
       "      <th>작가</th>\n",
       "      <th>출판사</th>\n",
       "      <th>기록</th>\n",
       "    </tr>\n",
       "  </thead>\n",
       "  <tbody>\n",
       "    <tr>\n",
       "      <th>0</th>\n",
       "      <td>해리 포터와 비밀의 방 (미나리마 에디션)</td>\n",
       "      <td>J.K. 롤링</td>\n",
       "      <td>문학수첩</td>\n",
       "      <td>없음</td>\n",
       "    </tr>\n",
       "    <tr>\n",
       "      <th>1</th>\n",
       "      <td>방금 떠나온 세계</td>\n",
       "      <td>김초엽</td>\n",
       "      <td>한겨레출판</td>\n",
       "      <td>없음</td>\n",
       "    </tr>\n",
       "    <tr>\n",
       "      <th>2</th>\n",
       "      <td>당장 써! CREATE NOW!</td>\n",
       "      <td>맥라우드 형제</td>\n",
       "      <td>북드림</td>\n",
       "      <td>없음</td>\n",
       "    </tr>\n",
       "    <tr>\n",
       "      <th>3</th>\n",
       "      <td>행성어 서점</td>\n",
       "      <td>김초엽</td>\n",
       "      <td>마음산책</td>\n",
       "      <td>없음</td>\n",
       "    </tr>\n",
       "    <tr>\n",
       "      <th>4</th>\n",
       "      <td>듄 신장판 1</td>\n",
       "      <td>프랭크 허버트</td>\n",
       "      <td>황금가지</td>\n",
       "      <td>소설/시/희곡 top10 2주</td>\n",
       "    </tr>\n",
       "    <tr>\n",
       "      <th>...</th>\n",
       "      <td>...</td>\n",
       "      <td>...</td>\n",
       "      <td>...</td>\n",
       "      <td>...</td>\n",
       "    </tr>\n",
       "    <tr>\n",
       "      <th>95</th>\n",
       "      <td>홍천기 1~2 세트 - 전2권 (리커버 에디션)</td>\n",
       "      <td>정은궐</td>\n",
       "      <td>파란(파란미디어)</td>\n",
       "      <td>종합 top100 3주</td>\n",
       "    </tr>\n",
       "    <tr>\n",
       "      <th>96</th>\n",
       "      <td>피프티 피플</td>\n",
       "      <td>정세랑</td>\n",
       "      <td>창비</td>\n",
       "      <td>소설/시/희곡 top100 11주</td>\n",
       "    </tr>\n",
       "    <tr>\n",
       "      <th>97</th>\n",
       "      <td>미스터리 가이드북</td>\n",
       "      <td>윤영천</td>\n",
       "      <td>한즈미디어(한스미디어)</td>\n",
       "      <td>소설/시/희곡 top100 5주</td>\n",
       "    </tr>\n",
       "    <tr>\n",
       "      <th>98</th>\n",
       "      <td>언네임드 메모리 1</td>\n",
       "      <td>후루미야 쿠지</td>\n",
       "      <td>대원씨아이(단행본)</td>\n",
       "      <td>없음</td>\n",
       "    </tr>\n",
       "    <tr>\n",
       "      <th>99</th>\n",
       "      <td>내 문장이 그렇게 이상한가요?</td>\n",
       "      <td>김정선</td>\n",
       "      <td>유유</td>\n",
       "      <td>종합 top100 32주</td>\n",
       "    </tr>\n",
       "  </tbody>\n",
       "</table>\n",
       "<p>100 rows × 4 columns</p>\n",
       "</div>"
      ],
      "text/plain": [
       "                           책제목       작가           출판사                  기록\n",
       "0      해리 포터와 비밀의 방 (미나리마 에디션)  J.K. 롤링          문학수첩                  없음\n",
       "1                    방금 떠나온 세계      김초엽         한겨레출판                  없음\n",
       "2            당장 써! CREATE NOW!  맥라우드 형제           북드림                  없음\n",
       "3                       행성어 서점      김초엽          마음산책                  없음\n",
       "4                      듄 신장판 1  프랭크 허버트          황금가지    소설/시/희곡 top10 2주\n",
       "..                         ...      ...           ...                 ...\n",
       "95  홍천기 1~2 세트 - 전2권 (리커버 에디션)      정은궐     파란(파란미디어)        종합 top100 3주\n",
       "96                      피프티 피플      정세랑            창비  소설/시/희곡 top100 11주\n",
       "97                   미스터리 가이드북      윤영천  한즈미디어(한스미디어)   소설/시/희곡 top100 5주\n",
       "98                  언네임드 메모리 1  후루미야 쿠지    대원씨아이(단행본)                  없음\n",
       "99            내 문장이 그렇게 이상한가요?      김정선            유유       종합 top100 32주\n",
       "\n",
       "[100 rows x 4 columns]"
      ]
     },
     "execution_count": 14,
     "metadata": {},
     "output_type": "execute_result"
    }
   ],
   "source": [
    "df_data2 = {\n",
    "    '책제목' : title,\n",
    "    '작가' : writer,\n",
    "    '출판사' : publisher,\n",
    "    '기록' : records\n",
    "}\n",
    "\n",
    "df2 = pd.DataFrame(df_data2)\n",
    "df2"
   ]
  },
  {
   "cell_type": "markdown",
   "metadata": {},
   "source": [
    "# Open API 활용 : 경기도 공공,지역 도서관 인기대출도서\n",
    "* https://data.gg.go.kr/portal/data/service/selectServicePage.do?page=1&rows=10&sortColumn=&sortDirection=&infId=4K9YEYMEGUD0N4ZIATSR24291536&infSeq=2&order=&loc="
   ]
  },
  {
   "cell_type": "code",
   "execution_count": 15,
   "metadata": {},
   "outputs": [
    {
     "data": {
      "text/plain": [
       "'https://openapi.gg.go.kr/Poplitloanbook?KEY=5bcc11a7b97c4614baa9a3e73f16eb96&Type=json&pIndex=1&pSIze=100'"
      ]
     },
     "execution_count": 15,
     "metadata": {},
     "output_type": "execute_result"
    }
   ],
   "source": [
    "serviceKey = '5bcc11a7b97c4614baa9a3e73f16eb96'\n",
    "\n",
    "url = 'https://openapi.gg.go.kr/Poplitloanbook?KEY={}&Type=json&pIndex=1&pSIze=100'.format(serviceKey)\n",
    "url"
   ]
  },
  {
   "cell_type": "code",
   "execution_count": 16,
   "metadata": {},
   "outputs": [
    {
     "data": {
      "text/plain": [
       "<Response [200]>"
      ]
     },
     "execution_count": 16,
     "metadata": {},
     "output_type": "execute_result"
    }
   ],
   "source": [
    "res = requests.get(url)\n",
    "res"
   ]
  },
  {
   "cell_type": "code",
   "execution_count": 17,
   "metadata": {},
   "outputs": [
    {
     "data": {
      "text/plain": [
       "'{\"Poplitloanbook\":[{\"head\":[{\"list_total_count\":1000},{\"RESULT\":{\"CODE\":\"INFO-000\",\"MESSAGE\":\"정상 처리되었습니다.\"}},{\"api_version\":\"1.0\"}]},{\"row\":[{\"STD_YM\":\"2021-09\",\"RKI_NO\":35,\"BOOK_NM_INFO\":\"(추리 천재) 엉덩이'"
      ]
     },
     "execution_count": 17,
     "metadata": {},
     "output_type": "execute_result"
    }
   ],
   "source": [
    "res.text[:200]"
   ]
  },
  {
   "cell_type": "code",
   "execution_count": null,
   "metadata": {},
   "outputs": [],
   "source": [
    "data = res.json()\n",
    "data"
   ]
  },
  {
   "cell_type": "markdown",
   "metadata": {},
   "source": [
    "* 페이지당 요청 숫자의 한도: 1000, 데이터의 개수 : 1000\n",
    "* 페이지당 100개씩 10페이지를 받는것으로"
   ]
  },
  {
   "cell_type": "code",
   "execution_count": 61,
   "metadata": {},
   "outputs": [
    {
     "data": {
      "text/plain": [
       "(['달러구트 꿈 백화점 :이미예 장편소설',\n",
       "  '아몬드 :손원평 장편소설',\n",
       "  '(추리 천재) 엉덩이 탐정',\n",
       "  '(추리 천재) 엉덩이 탐정',\n",
       "  '(추리 천재) 엉덩이 탐정',\n",
       "  '(추리 천재) 엉덩이 탐정',\n",
       "  '흔한남매',\n",
       "  '(이상한 과자 가게) 전천당',\n",
       "  '시선으로부터,',\n",
       "  '흔한남매'],\n",
       " ['지은이: 이미예',\n",
       "  '지은이: 손원평',\n",
       "  '트롤 글·그림 ;김정화 옮김',\n",
       "  '트롤 글·그림 ;김정화 옮김',\n",
       "  '트롤 글·그림 ;김정화 옮김',\n",
       "  '트롤 글·그림 ;김정화 옮김',\n",
       "  '원작: 흔한남매 ;그림: 유난희',\n",
       "  '히로시마 레이코 글;김정화 옮김',\n",
       "  '정세랑 (지은이)',\n",
       "  '원작: 흔한남매 ;그림: 유난희'],\n",
       " ['팩토리나인', '창비', '미래엔', '미래엔', '미래엔', '미래엔', '미래엔', '길벗스쿨', '문학동네', '미래엔'],\n",
       " [1, 2, 3, 4, 5, 6, 7, 8, 9, 10])"
      ]
     },
     "execution_count": 61,
     "metadata": {},
     "output_type": "execute_result"
    }
   ],
   "source": [
    "book_name = []\n",
    "author = []\n",
    "publisher = []\n",
    "rank = []\n",
    "\n",
    "for i in range(1, 11):  # 1~10\n",
    "    pageNo = i\n",
    "    url = 'https://openapi.gg.go.kr/Poplitloanbook?KEY={}&Type=json&pIndex={}&pSIze=100'.format(serviceKey, pageNo)\n",
    "    res = requests.get(url)\n",
    "    data = res.json()\n",
    "    \n",
    "    items = data['Poplitloanbook'][1]['row']\n",
    "    \n",
    "    for item in items:\n",
    "        book_name.append(item['BOOK_NM_INFO'])\n",
    "        author.append(item['AUTHOR_NM_INFO'])\n",
    "        publisher.append(item['PUBLSHCMPY_NM'])\n",
    "        rank.append(item['RKI_NO'])\n",
    "\n",
    "book_name[:10], author[:10], publisher[:10], rank[:10]"
   ]
  },
  {
   "cell_type": "markdown",
   "metadata": {},
   "source": [
    "### 리스트들의 길이가 같은지 확인"
   ]
  },
  {
   "cell_type": "code",
   "execution_count": 62,
   "metadata": {},
   "outputs": [
    {
     "data": {
      "text/plain": [
       "(1000, 1000, 1000, 1000)"
      ]
     },
     "execution_count": 62,
     "metadata": {},
     "output_type": "execute_result"
    }
   ],
   "source": [
    "len(book_name), len(author), len(publisher), len(rank)"
   ]
  },
  {
   "cell_type": "markdown",
   "metadata": {},
   "source": [
    "### DataFrame으로 변환하기"
   ]
  },
  {
   "cell_type": "code",
   "execution_count": 63,
   "metadata": {},
   "outputs": [
    {
     "data": {
      "text/html": [
       "<div>\n",
       "<style scoped>\n",
       "    .dataframe tbody tr th:only-of-type {\n",
       "        vertical-align: middle;\n",
       "    }\n",
       "\n",
       "    .dataframe tbody tr th {\n",
       "        vertical-align: top;\n",
       "    }\n",
       "\n",
       "    .dataframe thead th {\n",
       "        text-align: right;\n",
       "    }\n",
       "</style>\n",
       "<table border=\"1\" class=\"dataframe\">\n",
       "  <thead>\n",
       "    <tr style=\"text-align: right;\">\n",
       "      <th></th>\n",
       "      <th>책제목</th>\n",
       "      <th>작가</th>\n",
       "      <th>출판사</th>\n",
       "      <th>순위</th>\n",
       "    </tr>\n",
       "  </thead>\n",
       "  <tbody>\n",
       "    <tr>\n",
       "      <th>0</th>\n",
       "      <td>달러구트 꿈 백화점 :이미예 장편소설</td>\n",
       "      <td>지은이: 이미예</td>\n",
       "      <td>팩토리나인</td>\n",
       "      <td>1</td>\n",
       "    </tr>\n",
       "    <tr>\n",
       "      <th>1</th>\n",
       "      <td>아몬드 :손원평 장편소설</td>\n",
       "      <td>지은이: 손원평</td>\n",
       "      <td>창비</td>\n",
       "      <td>2</td>\n",
       "    </tr>\n",
       "    <tr>\n",
       "      <th>2</th>\n",
       "      <td>(추리 천재) 엉덩이 탐정</td>\n",
       "      <td>트롤 글·그림 ;김정화 옮김</td>\n",
       "      <td>미래엔</td>\n",
       "      <td>3</td>\n",
       "    </tr>\n",
       "    <tr>\n",
       "      <th>3</th>\n",
       "      <td>(추리 천재) 엉덩이 탐정</td>\n",
       "      <td>트롤 글·그림 ;김정화 옮김</td>\n",
       "      <td>미래엔</td>\n",
       "      <td>4</td>\n",
       "    </tr>\n",
       "    <tr>\n",
       "      <th>4</th>\n",
       "      <td>(추리 천재) 엉덩이 탐정</td>\n",
       "      <td>트롤 글·그림 ;김정화 옮김</td>\n",
       "      <td>미래엔</td>\n",
       "      <td>5</td>\n",
       "    </tr>\n",
       "    <tr>\n",
       "      <th>...</th>\n",
       "      <td>...</td>\n",
       "      <td>...</td>\n",
       "      <td>...</td>\n",
       "      <td>...</td>\n",
       "    </tr>\n",
       "    <tr>\n",
       "      <th>995</th>\n",
       "      <td>(코믹 메이플스토리) 수학도둑 :사고력과 이해력을 향상시켜 주는 국내 최초 수학논술만화</td>\n",
       "      <td>글: 송도수 ;서정 엔터테인먼트</td>\n",
       "      <td>서울문화사</td>\n",
       "      <td>918</td>\n",
       "    </tr>\n",
       "    <tr>\n",
       "      <th>996</th>\n",
       "      <td>도깨비를 빨아 버린 우리 엄마</td>\n",
       "      <td>사토 와키코</td>\n",
       "      <td>한림출판사</td>\n",
       "      <td>918</td>\n",
       "    </tr>\n",
       "    <tr>\n",
       "      <th>997</th>\n",
       "      <td>설날</td>\n",
       "      <td>김영진 (지은이)</td>\n",
       "      <td>길벗어린이</td>\n",
       "      <td>920</td>\n",
       "    </tr>\n",
       "    <tr>\n",
       "      <th>998</th>\n",
       "      <td>엉덩이 탐정 : 뿡뿡 사라진 과자를 찾아라!</td>\n",
       "      <td>트롤 (지은이), 전경아 (옮긴이)</td>\n",
       "      <td>문학수첩 리틀북</td>\n",
       "      <td>920</td>\n",
       "    </tr>\n",
       "    <tr>\n",
       "      <th>999</th>\n",
       "      <td>총, 균, 쇠</td>\n",
       "      <td>재레드 다이아몬드 지음 ;김진준 옮김</td>\n",
       "      <td>문학사상</td>\n",
       "      <td>920</td>\n",
       "    </tr>\n",
       "  </tbody>\n",
       "</table>\n",
       "<p>1000 rows × 4 columns</p>\n",
       "</div>"
      ],
      "text/plain": [
       "                                                  책제목                    작가  \\\n",
       "0                                달러구트 꿈 백화점 :이미예 장편소설              지은이: 이미예   \n",
       "1                                       아몬드 :손원평 장편소설              지은이: 손원평   \n",
       "2                                      (추리 천재) 엉덩이 탐정       트롤 글·그림 ;김정화 옮김   \n",
       "3                                      (추리 천재) 엉덩이 탐정       트롤 글·그림 ;김정화 옮김   \n",
       "4                                      (추리 천재) 엉덩이 탐정       트롤 글·그림 ;김정화 옮김   \n",
       "..                                                ...                   ...   \n",
       "995  (코믹 메이플스토리) 수학도둑 :사고력과 이해력을 향상시켜 주는 국내 최초 수학논술만화     글: 송도수 ;서정 엔터테인먼트   \n",
       "996                                  도깨비를 빨아 버린 우리 엄마                사토 와키코   \n",
       "997                                                설날             김영진 (지은이)   \n",
       "998                          엉덩이 탐정 : 뿡뿡 사라진 과자를 찾아라!   트롤 (지은이), 전경아 (옮긴이)   \n",
       "999                                           총, 균, 쇠  재레드 다이아몬드 지음 ;김진준 옮김   \n",
       "\n",
       "          출판사   순위  \n",
       "0       팩토리나인    1  \n",
       "1          창비    2  \n",
       "2         미래엔    3  \n",
       "3         미래엔    4  \n",
       "4         미래엔    5  \n",
       "..        ...  ...  \n",
       "995     서울문화사  918  \n",
       "996     한림출판사  918  \n",
       "997     길벗어린이  920  \n",
       "998  문학수첩 리틀북  920  \n",
       "999      문학사상  920  \n",
       "\n",
       "[1000 rows x 4 columns]"
      ]
     },
     "execution_count": 63,
     "metadata": {},
     "output_type": "execute_result"
    }
   ],
   "source": [
    "df_data = {\n",
    "    '책제목' : book_name,\n",
    "    '작가' : author,\n",
    "    '출판사' : publisher,\n",
    "    '순위' : rank\n",
    "}\n",
    "pd.DataFrame(df_data)"
   ]
  },
  {
   "cell_type": "markdown",
   "metadata": {},
   "source": [
    "### 결론: 만들어진 데이터 프레임을 보면 \"달러구트 꿈 백화점\"과 \"아몬드\"를 최근에 많이 읽는다고 할 수 있다"
   ]
  },
  {
   "cell_type": "code",
   "execution_count": null,
   "metadata": {},
   "outputs": [],
   "source": []
  }
 ],
 "metadata": {
  "kernelspec": {
   "display_name": "Python 3",
   "language": "python",
   "name": "python3"
  },
  "language_info": {
   "codemirror_mode": {
    "name": "ipython",
    "version": 3
   },
   "file_extension": ".py",
   "mimetype": "text/x-python",
   "name": "python",
   "nbconvert_exporter": "python",
   "pygments_lexer": "ipython3",
   "version": "3.8.5"
  }
 },
 "nbformat": 4,
 "nbformat_minor": 4
}
